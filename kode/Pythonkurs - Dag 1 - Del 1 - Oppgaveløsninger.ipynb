{
  "cells": [
    {
      "cell_type": "markdown",
      "metadata": {
        "id": "view-in-github",
        "colab_type": "text"
      },
      "source": [
        "<a href=\"https://colab.research.google.com/github/kbotnen/python_geovitenskap/blob/main/kode/Pythonkurs%20-%20Dag%201%20-%20Del%201%20-%20Oppgavel%C3%B8sninger.ipynb\" target=\"_parent\"><img src=\"https://colab.research.google.com/assets/colab-badge.svg\" alt=\"Open In Colab\"/></a>"
      ]
    },
    {
      "cell_type": "markdown",
      "id": "5346e966",
      "metadata": {
        "id": "5346e966"
      },
      "source": [
        "# Oppsummering og oppgaver"
      ]
    },
    {
      "cell_type": "markdown",
      "id": "0085f7d2",
      "metadata": {
        "id": "0085f7d2"
      },
      "source": [
        "## Oppsummering 1\n",
        "Vi har lært litt om hva python er og hvordan vi kan bruke det til å gjøre enkle kalkuleringsoppgaver. Vi har også sett litt på python sin syntaks, lært hva variabler er og hvordan de kan brukes.\n",
        "\n",
        "\n",
        "## Oppgave 1\n",
        "0. Opprett et nytt tomt kodeprosjekt / dokument.\n",
        "1. Lag et program som regner ut **summen** av følgende tall: 27, 15, 6, 21, 52.\n",
        "2. Lag et program som regner ut **differansen** mellom følgende tall: 27, 15, 6, 21, 52.\n",
        "3. Lag et program som regner ut **produktet** av følgende tall: 27, 15, 6, 21, 52."
      ]
    },
    {
      "cell_type": "markdown",
      "id": "6fd67782",
      "metadata": {
        "id": "6fd67782"
      },
      "source": [
        "## Oppsummering 2\n",
        "Vi har sett på hvordan vi kan hente inn data v.h.a en tilstandsløkke, samt hvordan vi kan bruke variabler for å lagre verdier som vi summerer.\n",
        "\n",
        "\n",
        "## Oppgave 2\n",
        "\n",
        "0. Opprett et nytt tomt kodeprosjekt / dokument.\n",
        "1. Lag et program som regner ut **summen** av to tall som du skriver inn."
      ]
    },
    {
      "cell_type": "markdown",
      "id": "1c40e5b7",
      "metadata": {
        "id": "1c40e5b7"
      },
      "source": [
        "## Oppsummering 3\n",
        "Vi har sett flere eksempler på hvordan vi kan rulle en terning ved hjelp av den innebygde random() funksjonen. Vi valgte å rulle en terning 6 ganger.\n",
        "\n",
        "\n",
        "## Oppgave 3\n",
        "0. Opprett et nytt tomt kodeprosjekt / dokument.\n",
        "1. Lag et program som ruller en terning 12 ganger.\n",
        "2. Lag et program som ruller en 12-sidet terning 6 ganger.\n",
        "2. Lag et program som ruller to terninger 6 ganger."
      ]
    },
    {
      "cell_type": "markdown",
      "id": "9735907c",
      "metadata": {
        "id": "9735907c"
      },
      "source": [
        "## Løsningsforslag oppgaver - Del 1"
      ]
    },
    {
      "cell_type": "code",
      "execution_count": null,
      "id": "5dcf214b",
      "metadata": {
        "id": "5dcf214b"
      },
      "outputs": [],
      "source": [
        "number_a = 27\n",
        "number_b = 15\n",
        "number_c = 6\n",
        "number_d = 21\n",
        "number_e = 52\n",
        "\n",
        "print(number_a + number_b + number_c + number_d + number_e)\n",
        "print(number_a - number_b - number_c - number_d - number_e)\n",
        "print(number_a * number_b * number_c * number_d * number_e)"
      ]
    },
    {
      "cell_type": "markdown",
      "id": "b87d9a32",
      "metadata": {
        "id": "b87d9a32"
      },
      "source": [
        "## Løsningsforslag oppgaver - Del 2"
      ]
    },
    {
      "cell_type": "code",
      "execution_count": null,
      "id": "6d767638",
      "metadata": {
        "id": "6d767638"
      },
      "outputs": [],
      "source": [
        "tall_a = 0\n",
        "tall_b = 0\n",
        "while (True):\n",
        "    tall_a = input(\"Enter first number:\")\n",
        "    tall_b = input(\"Enter second number:\")\n",
        "    print(int(tall_a) + int(tall_b))"
      ]
    },
    {
      "cell_type": "markdown",
      "id": "9f98e5a5",
      "metadata": {
        "id": "9f98e5a5"
      },
      "source": [
        "## Løsningsforslag oppgaver - Del 3"
      ]
    },
    {
      "cell_type": "code",
      "execution_count": null,
      "id": "084d6389",
      "metadata": {
        "id": "084d6389",
        "scrolled": true
      },
      "outputs": [],
      "source": [
        "# Lag et program som ruller en terning 12 ganger.\n",
        "import random\n",
        "\n",
        "def egen_funksjon(antall_kast):\n",
        "    for i in range(0, antall_kast):\n",
        "        print(random.randrange(1,7))\n",
        "\n",
        "egen_funksjon(12)"
      ]
    },
    {
      "cell_type": "code",
      "execution_count": null,
      "id": "72787c53",
      "metadata": {
        "id": "72787c53"
      },
      "outputs": [],
      "source": [
        "# Lag et program som ruller en 12-sidet terning 6 ganger.\n",
        "import random\n",
        "\n",
        "def egen_funksjon(antall_kast):\n",
        "    for i in range(0, antall_kast):\n",
        "        print(random.randrange(1,13))\n",
        "\n",
        "egen_funksjon(6)"
      ]
    },
    {
      "cell_type": "code",
      "execution_count": null,
      "id": "51d832c7",
      "metadata": {
        "id": "51d832c7"
      },
      "outputs": [],
      "source": [
        "# Lag et program som ruller to terninger 6 ganger.\n",
        "import random\n",
        "\n",
        "terning_a = 0\n",
        "terning_b = 0\n",
        "\n",
        "def egen_funksjon(antall_kast):\n",
        "    for i in range(0, antall_kast):\n",
        "        terning_a = random.randrange(1,7)\n",
        "        terning_b = random.randrange(1,7)\n",
        "        print(\"Kast #\" + str(i) + \": Terning A - \" + str(terning_a))\n",
        "        print(\"Kast #\" + str(i) + \": Terning B - \" + str(terning_b))\n",
        "        print(\"Sum: \" + str(terning_a + terning_b))\n",
        "\n",
        "egen_funksjon(6)"
      ]
    },
    {
      "cell_type": "code",
      "execution_count": null,
      "id": "3586e3c6-58ac-4589-aa12-ac1fd9571295",
      "metadata": {
        "id": "3586e3c6-58ac-4589-aa12-ac1fd9571295"
      },
      "outputs": [],
      "source": []
    }
  ],
  "metadata": {
    "celltoolbar": "Slideshow",
    "colab": {
      "provenance": [],
      "include_colab_link": true
    },
    "kernelspec": {
      "display_name": "Python 3 (ipykernel)",
      "language": "python",
      "name": "python3"
    },
    "language_info": {
      "codemirror_mode": {
        "name": "ipython",
        "version": 3
      },
      "file_extension": ".py",
      "mimetype": "text/x-python",
      "name": "python",
      "nbconvert_exporter": "python",
      "pygments_lexer": "ipython3",
      "version": "3.12.2"
    }
  },
  "nbformat": 4,
  "nbformat_minor": 5
}