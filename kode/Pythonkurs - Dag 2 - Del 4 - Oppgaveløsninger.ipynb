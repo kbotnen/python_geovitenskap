{
  "cells": [
    {
      "cell_type": "markdown",
      "metadata": {
        "id": "view-in-github",
        "colab_type": "text"
      },
      "source": [
        "<a href=\"https://colab.research.google.com/github/kbotnen/python_geovitenskap/blob/main/kode/Pythonkurs%20-%20Dag%202%20-%20Del%204%20-%20Oppgavel%C3%B8sninger.ipynb\" target=\"_parent\"><img src=\"https://colab.research.google.com/assets/colab-badge.svg\" alt=\"Open In Colab\"/></a>"
      ]
    },
    {
      "cell_type": "markdown",
      "id": "a8ce2bbf-74fa-4d21-babf-fa5d85841694",
      "metadata": {
        "id": "a8ce2bbf-74fa-4d21-babf-fa5d85841694"
      },
      "source": [
        "## Oppgave\n",
        "\n",
        "0. Opprett et nytt tomt kodeprosjekt / dokument.\n",
        "1. Lag et egetdefinert kart, basert på folium.\n",
        "2. Finn et eksempel datasett og plott på kartet ditt.\n",
        "\n",
        "* Noen datasett finner du her: https://geojson.xyz\n",
        "* Noen datasett finer du også her: https://kartkatalog.geonorge.no"
      ]
    },
    {
      "cell_type": "markdown",
      "id": "6f38c15e-40c3-49c5-9711-7b53587bd243",
      "metadata": {
        "id": "6f38c15e-40c3-49c5-9711-7b53587bd243"
      },
      "source": [
        "## Løsningsforslag oppgave"
      ]
    },
    {
      "cell_type": "code",
      "execution_count": null,
      "id": "f5ca8278-1d05-4f3b-8d01-fbf1976413fd",
      "metadata": {
        "id": "f5ca8278-1d05-4f3b-8d01-fbf1976413fd"
      },
      "outputs": [],
      "source": [
        "import folium\n",
        "\n",
        "# New datasource.\n",
        "# https://kartkatalog.geonorge.no/metadata/dispensasjoner-etter-plan--og-bygningsloven-fredrikstad-kommune/4d0c5fa9-e7b4-4a89-a495-66f7bee3639d\n",
        "# https://hub-frstadkomm.opendata.arcgis.com/datasets/b0d0124cde0e47898c029eba78fd9d4f_0/explore?location=58.999399%2C8.171769%2C9.15\n",
        "fredrikstad_dispensjasjoner_url = (\n",
        "    \"Dispensasjoner_etter_plan-_og_bygningsloven.geojson\"\n",
        ")\n",
        "\n",
        "map = folium.Map(tiles=\"OpenStreetMap\", location=[59.13, 10.55], zoom_start=8, control_scale=True)\n",
        "\n",
        "folium.GeoJson(fredrikstad_dispensjasjoner_url).add_to(map)"
      ]
    },
    {
      "cell_type": "code",
      "execution_count": null,
      "id": "6e8e739e-510d-4926-9502-fccaeb2e4cc2",
      "metadata": {
        "id": "6e8e739e-510d-4926-9502-fccaeb2e4cc2"
      },
      "outputs": [],
      "source": [
        "map"
      ]
    },
    {
      "cell_type": "code",
      "execution_count": null,
      "id": "8e908b64-4115-4430-b1a5-bffaad8b156a",
      "metadata": {
        "id": "8e908b64-4115-4430-b1a5-bffaad8b156a"
      },
      "outputs": [],
      "source": [
        "output_map = \"oppgave_map.html\"\n",
        "map.save(output_map)"
      ]
    },
    {
      "cell_type": "code",
      "execution_count": null,
      "id": "4a51f535-f793-40cc-a386-370413d05518",
      "metadata": {
        "id": "4a51f535-f793-40cc-a386-370413d05518"
      },
      "outputs": [],
      "source": []
    }
  ],
  "metadata": {
    "kernelspec": {
      "display_name": "Python 3 (ipykernel)",
      "language": "python",
      "name": "python3"
    },
    "language_info": {
      "codemirror_mode": {
        "name": "ipython",
        "version": 3
      },
      "file_extension": ".py",
      "mimetype": "text/x-python",
      "name": "python",
      "nbconvert_exporter": "python",
      "pygments_lexer": "ipython3",
      "version": "3.12.2"
    },
    "colab": {
      "provenance": [],
      "include_colab_link": true
    }
  },
  "nbformat": 4,
  "nbformat_minor": 5
}