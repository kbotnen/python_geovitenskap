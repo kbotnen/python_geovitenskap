{
 "cells": [
  {
   "cell_type": "markdown",
   "id": "daad06ab",
   "metadata": {
    "id": "daad06ab"
   },
   "source": [
    "# Oppsummering og oppgaver"
   ]
  },
  {
   "cell_type": "markdown",
   "id": "91fe0f73-aba2-4595-8251-ed0089f2a900",
   "metadata": {
    "id": "91fe0f73-aba2-4595-8251-ed0089f2a900"
   },
   "source": [
    "## Oppgaver - Del 1\n",
    "\n",
    "0. Opprett et nytt tomt kodeprosjekt / dokument.\n",
    "1. Lag en variabel som inneholder en valgfri tekst (string).\n",
    "2. Lag en funksjon som tar inn variabelen og reverserer stringen."
   ]
  },
  {
   "cell_type": "markdown",
   "id": "4cada981-ed02-46c9-a521-530edcad7271",
   "metadata": {
    "id": "4cada981-ed02-46c9-a521-530edcad7271"
   },
   "source": [
    "## Oppgaver - Del 2\n",
    "\n",
    "0. Opprett et nytt tomt kodeprosjekt / dokument.\n",
    "1. Lag et program som simulerer en terning. Du kan kanskje gjenbruke deler av koden fra tidligere oppgave?\n",
    "2. Bruk programmet til å utføre 10, 100 eller 1000 kast.\n",
    "3. Vi vet hva sansynligheten for å få en sekser er 1/6, men hvordan stemmer dette overens med resultatene fra pkt2?."
   ]
  },
  {
   "cell_type": "markdown",
   "id": "730c1aa5",
   "metadata": {
    "id": "730c1aa5"
   },
   "source": [
    "## Løsningsforslag oppgaver - Del 1"
   ]
  },
  {
   "cell_type": "code",
   "execution_count": null,
   "id": "b15529af",
   "metadata": {
    "id": "b15529af"
   },
   "outputs": [],
   "source": [
    "original_string = \"world\"\n",
    "\n",
    "def reverse_string(text):\n",
    "    reversed_string = \"\"\n",
    "    for letter in text:\n",
    "        reversed_string = letter + reversed_string\n",
    "    return reversed_string\n",
    "\n",
    "print(reverse_string(original_string))"
   ]
  },
  {
   "cell_type": "markdown",
   "id": "0bfeba81",
   "metadata": {
    "id": "0bfeba81"
   },
   "source": [
    "## Løsningsforslag oppgaver - Del 2"
   ]
  },
  {
   "cell_type": "code",
   "execution_count": null,
   "id": "fdc4da61-47ab-4b83-a5c5-ad4d418a7935",
   "metadata": {
    "id": "fdc4da61-47ab-4b83-a5c5-ad4d418a7935"
   },
   "outputs": [],
   "source": [
    "import random\n",
    "\n",
    "def kast_terning(antall_kast):\n",
    "    # Listevariabel som holder resultatene av kastene underveis\n",
    "    result_array = []\n",
    "\n",
    "    # Bruk for-løkke for å gjøre antall_kast\n",
    "    for i in range(0,antall_kast):\n",
    "        terningkastet = random.randrange(1,7)\n",
    "        result_array.append(terningkastet)\n",
    "\n",
    "    prosentandelen = (result_array.count(6) / antall_kast) * 100\n",
    "    print(\"Antall prosent som er 6:\", prosentandelen)\n",
    "    return result_array\n",
    "\n",
    "ti_kast = kast_terning(10)\n",
    "hundre_kast = kast_terning(100)\n",
    "tusen_kast = kast_terning(1000)\n",
    "\n",
    "print(ti_kast)\n",
    "print(hundre_kast)\n",
    "print(tusen_kast)"
   ]
  }
 ],
 "metadata": {
  "colab": {
   "include_colab_link": true,
   "provenance": []
  },
  "kernelspec": {
   "display_name": "Python 3 (ipykernel)",
   "language": "python",
   "name": "python3"
  },
  "language_info": {
   "codemirror_mode": {
    "name": "ipython",
    "version": 3
   },
   "file_extension": ".py",
   "mimetype": "text/x-python",
   "name": "python",
   "nbconvert_exporter": "python",
   "pygments_lexer": "ipython3",
   "version": "3.12.2"
  }
 },
 "nbformat": 4,
 "nbformat_minor": 5
}
