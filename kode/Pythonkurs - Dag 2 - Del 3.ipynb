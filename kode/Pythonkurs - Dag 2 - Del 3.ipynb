{
 "cells": [
  {
   "cell_type": "markdown",
   "id": "083bfbb1-ad0f-4db1-bfbe-3c877419313f",
   "metadata": {
    "id": "083bfbb1-ad0f-4db1-bfbe-3c877419313f"
   },
   "source": [
    "# Python workshop - Introduksjon til python - Del 3\n",
    "Filbehandling og regneark.\n",
    "\n",
    "GEOV181 høst 2025, Kristian Botnen"
   ]
  },
  {
   "cell_type": "markdown",
   "id": "5223ab3f-5ca6-48e7-9e9c-708e9124eb14",
   "metadata": {
    "id": "5223ab3f-5ca6-48e7-9e9c-708e9124eb14"
   },
   "source": [
    "## Litt kode for å åpne, endre og lukke filer"
   ]
  },
  {
   "cell_type": "code",
   "execution_count": null,
   "id": "0b0399fc-d51d-41c1-a6c7-f0296fd2eb36",
   "metadata": {
    "colab": {
     "base_uri": "https://localhost:8080/"
    },
    "executionInfo": {
     "elapsed": 24,
     "status": "ok",
     "timestamp": 1755496620224,
     "user": {
      "displayName": "Kristian Botnen",
      "userId": "02753973764800285565"
     },
     "user_tz": -120
    },
    "id": "0b0399fc-d51d-41c1-a6c7-f0296fd2eb36",
    "outputId": "22368c47-fd0a-4f3e-9fbf-5caff3329a23"
   },
   "outputs": [],
   "source": [
    "# Open a normal text file.\n",
    "with open(\"Pythonkurs - Dag 2 - Del 3 - Test read.txt\", \"r\", encoding=\"utf-8\") as file:\n",
    "    content = file.read()\n",
    "\n",
    "# Examine the content.\n",
    "print(content)\n"
   ]
  },
  {
   "cell_type": "code",
   "execution_count": null,
   "id": "94b1241b-7872-415f-9e98-f68c543e5e93",
   "metadata": {
    "executionInfo": {
     "elapsed": 14,
     "status": "ok",
     "timestamp": 1755496623684,
     "user": {
      "displayName": "Kristian Botnen",
      "userId": "02753973764800285565"
     },
     "user_tz": -120
    },
    "id": "94b1241b-7872-415f-9e98-f68c543e5e93"
   },
   "outputs": [],
   "source": [
    "# Write to a normal text file. Use mode 'a' if you want to append instead of overwriting.\n",
    "with open(\"Pythonkurs - Dag 2 - Del 3 - Test write.txt\", \"w\", encoding=\"utf-8\") as file:\n",
    "    file.write(\"First line to write.\\n\")\n",
    "    file.write(\"The second line to write.\")\n"
   ]
  },
  {
   "cell_type": "code",
   "execution_count": null,
   "id": "67d41f17-640b-4d91-8d2a-425b13bcdb5a",
   "metadata": {
    "executionInfo": {
     "elapsed": 602,
     "status": "ok",
     "timestamp": 1755496643340,
     "user": {
      "displayName": "Kristian Botnen",
      "userId": "02753973764800285565"
     },
     "user_tz": -120
    },
    "id": "67d41f17-640b-4d91-8d2a-425b13bcdb5a"
   },
   "outputs": [],
   "source": [
    "# Open a Excel file.\n",
    "import pandas as pd\n",
    "# Remember: 'conda install openpyxl' before importing xlsx\n",
    "\n",
    "# Read all sheets into a dictionary, sheet_name=None results in all sheets being read.\n",
    "all_sheets = pd.read_excel(\"Pythonkurs - Dag 2 - Del 3 - Prices clean.xlsx\", sheet_name=None)"
   ]
  },
  {
   "cell_type": "code",
   "execution_count": null,
   "id": "9b270114-6d34-4f64-b0f3-2be368c8aea9",
   "metadata": {
    "colab": {
     "base_uri": "https://localhost:8080/"
    },
    "executionInfo": {
     "elapsed": 5,
     "status": "ok",
     "timestamp": 1755496646645,
     "user": {
      "displayName": "Kristian Botnen",
      "userId": "02753973764800285565"
     },
     "user_tz": -120
    },
    "id": "9b270114-6d34-4f64-b0f3-2be368c8aea9",
    "outputId": "d48313bb-235e-4f4d-b057-11241b5b5688"
   },
   "outputs": [],
   "source": [
    "print(type(all_sheets)) # Verify what datastructure we have.\n",
    "print(all_sheets.keys()) # Let's get the name of the sheets."
   ]
  },
  {
   "cell_type": "code",
   "execution_count": null,
   "id": "87ccf39b-7d5b-474f-ac52-a1c9e0c176b6",
   "metadata": {
    "colab": {
     "base_uri": "https://localhost:8080/"
    },
    "executionInfo": {
     "elapsed": 34,
     "status": "ok",
     "timestamp": 1755496649005,
     "user": {
      "displayName": "Kristian Botnen",
      "userId": "02753973764800285565"
     },
     "user_tz": -120
    },
    "id": "87ccf39b-7d5b-474f-ac52-a1c9e0c176b6",
    "outputId": "37285ad7-98c3-467a-dac8-d39931eda4d8"
   },
   "outputs": [],
   "source": [
    "for item in all_sheets.values(): # Let us inspect the results.\n",
    "    print(type(item))\n",
    "    print(item)\n",
    "    print(\"---\")"
   ]
  },
  {
   "cell_type": "markdown",
   "id": "b6859b51-3231-40fa-9a29-8ea8455f5fde",
   "metadata": {
    "id": "b6859b51-3231-40fa-9a29-8ea8455f5fde"
   },
   "source": [
    "Vi ser at vi nå har lest inn en excelfil som har to ark i seg. Hvert av de to arkene er represent som en Pandas DataFrame, og er omkapslet av en Dictionary. La oss droppe den overordnede strukturen og få direkte tilgang til hvert av de to arkene."
   ]
  },
  {
   "cell_type": "code",
   "execution_count": null,
   "id": "5e4c12a6-f5a7-4ca4-8168-6e4ac5bf5408",
   "metadata": {
    "executionInfo": {
     "elapsed": 5,
     "status": "ok",
     "timestamp": 1755496652760,
     "user": {
      "displayName": "Kristian Botnen",
      "userId": "02753973764800285565"
     },
     "user_tz": -120
    },
    "id": "5e4c12a6-f5a7-4ca4-8168-6e4ac5bf5408"
   },
   "outputs": [],
   "source": [
    "df_prices_clean = all_sheets.get(\"prices_clean\", \"Not found\")\n",
    "df_makes = all_sheets.get(\"makes\", \"Not found\")"
   ]
  },
  {
   "cell_type": "code",
   "execution_count": null,
   "id": "154fbcd3-2a71-4d69-b746-5668b2356ec2",
   "metadata": {
    "colab": {
     "base_uri": "https://localhost:8080/",
     "height": 739
    },
    "executionInfo": {
     "elapsed": 66,
     "status": "ok",
     "timestamp": 1755496654364,
     "user": {
      "displayName": "Kristian Botnen",
      "userId": "02753973764800285565"
     },
     "user_tz": -120
    },
    "id": "154fbcd3-2a71-4d69-b746-5668b2356ec2",
    "outputId": "167bcc84-303e-470f-8150-bd50512b26fb"
   },
   "outputs": [],
   "source": [
    "df_prices_clean"
   ]
  },
  {
   "cell_type": "code",
   "execution_count": null,
   "id": "a5cf4af8-bec8-42b6-96be-e000cd7dba35",
   "metadata": {
    "colab": {
     "base_uri": "https://localhost:8080/",
     "height": 424
    },
    "executionInfo": {
     "elapsed": 83,
     "status": "ok",
     "timestamp": 1755496657988,
     "user": {
      "displayName": "Kristian Botnen",
      "userId": "02753973764800285565"
     },
     "user_tz": -120
    },
    "id": "a5cf4af8-bec8-42b6-96be-e000cd7dba35",
    "outputId": "045f3578-7649-4c58-dce6-1776781f6b40"
   },
   "outputs": [],
   "source": [
    "df_makes"
   ]
  },
  {
   "cell_type": "code",
   "execution_count": null,
   "id": "6600fdd7-7462-419a-907b-da992be32382",
   "metadata": {
    "executionInfo": {
     "elapsed": 7,
     "status": "ok",
     "timestamp": 1755496659733,
     "user": {
      "displayName": "Kristian Botnen",
      "userId": "02753973764800285565"
     },
     "user_tz": -120
    },
    "id": "6600fdd7-7462-419a-907b-da992be32382"
   },
   "outputs": [],
   "source": [
    "df_makes.rename(columns={\"Unnamed: 1\":\"model\"}, inplace=True)"
   ]
  },
  {
   "cell_type": "code",
   "execution_count": null,
   "id": "0d7750be-7217-4c4b-a195-b59b000b104b",
   "metadata": {
    "colab": {
     "base_uri": "https://localhost:8080/",
     "height": 424
    },
    "executionInfo": {
     "elapsed": 81,
     "status": "ok",
     "timestamp": 1755496661207,
     "user": {
      "displayName": "Kristian Botnen",
      "userId": "02753973764800285565"
     },
     "user_tz": -120
    },
    "id": "0d7750be-7217-4c4b-a195-b59b000b104b",
    "outputId": "44c3d4ef-f788-4fdc-a244-be70471f0694"
   },
   "outputs": [],
   "source": [
    "df_makes"
   ]
  },
  {
   "cell_type": "code",
   "execution_count": null,
   "id": "0951a518-51ad-4338-ab7f-37c4357c8189",
   "metadata": {
    "colab": {
     "base_uri": "https://localhost:8080/",
     "height": 424
    },
    "executionInfo": {
     "elapsed": 45,
     "status": "ok",
     "timestamp": 1755496675891,
     "user": {
      "displayName": "Kristian Botnen",
      "userId": "02753973764800285565"
     },
     "user_tz": -120
    },
    "id": "0951a518-51ad-4338-ab7f-37c4357c8189",
    "outputId": "412cd70c-2dcc-4016-9a53-2df6f599bc7e"
   },
   "outputs": [],
   "source": [
    "# We can customize settings in Panda. To avoid scientific notation.\n",
    "pd.set_option('display.float_format', lambda x: '%.2f' % x)"
   ]
  },
  {
   "cell_type": "code",
   "execution_count": null,
   "id": "6a7d37be-dac1-4ed6-9d85-fc527602e358",
   "metadata": {
    "colab": {
     "base_uri": "https://localhost:8080/",
     "height": 1000
    },
    "executionInfo": {
     "elapsed": 34,
     "status": "ok",
     "timestamp": 1755496678566,
     "user": {
      "displayName": "Kristian Botnen",
      "userId": "02753973764800285565"
     },
     "user_tz": -120
    },
    "id": "6a7d37be-dac1-4ed6-9d85-fc527602e358",
    "outputId": "2701d2ba-e35c-4ccd-c84d-228d78ab6db8"
   },
   "outputs": [],
   "source": [
    "df_prices_clean.groupby(\"make\").price.min()"
   ]
  },
  {
   "cell_type": "code",
   "execution_count": null,
   "id": "b4237fbe-e7da-4c8b-a5e3-a51e9929b3df",
   "metadata": {
    "colab": {
     "base_uri": "https://localhost:8080/",
     "height": 1000
    },
    "executionInfo": {
     "elapsed": 20,
     "status": "ok",
     "timestamp": 1755496681093,
     "user": {
      "displayName": "Kristian Botnen",
      "userId": "02753973764800285565"
     },
     "user_tz": -120
    },
    "id": "b4237fbe-e7da-4c8b-a5e3-a51e9929b3df",
    "outputId": "c6f8c8ef-6090-4448-bcb4-3ae2df16337e"
   },
   "outputs": [],
   "source": [
    "df_prices_clean.groupby(\"make\").price.max()"
   ]
  },
  {
   "cell_type": "code",
   "execution_count": null,
   "id": "60369fe0-59b9-4a4b-b813-15d0b9869077",
   "metadata": {
    "colab": {
     "base_uri": "https://localhost:8080/",
     "height": 1000
    },
    "executionInfo": {
     "elapsed": 3,
     "status": "ok",
     "timestamp": 1755496683341,
     "user": {
      "displayName": "Kristian Botnen",
      "userId": "02753973764800285565"
     },
     "user_tz": -120
    },
    "id": "60369fe0-59b9-4a4b-b813-15d0b9869077",
    "outputId": "cb672742-bf74-4938-bbae-629663fdefdc"
   },
   "outputs": [],
   "source": [
    "df_prices_clean.groupby(\"make\").price.mean()"
   ]
  },
  {
   "cell_type": "code",
   "execution_count": null,
   "id": "637e2908-729d-4dd5-905a-21fde58aede6",
   "metadata": {
    "colab": {
     "base_uri": "https://localhost:8080/",
     "height": 1000
    },
    "executionInfo": {
     "elapsed": 353,
     "status": "ok",
     "timestamp": 1755496685712,
     "user": {
      "displayName": "Kristian Botnen",
      "userId": "02753973764800285565"
     },
     "user_tz": -120
    },
    "id": "637e2908-729d-4dd5-905a-21fde58aede6",
    "outputId": "921e6bae-9be5-4ef2-c023-3339897335cf"
   },
   "outputs": [],
   "source": [
    "df_prices_clean.groupby(\"make\").describe()"
   ]
  },
  {
   "cell_type": "markdown",
   "id": "fa53c218-8fd2-42e8-a303-fe22bd3a381b",
   "metadata": {
    "id": "fa53c218-8fd2-42e8-a303-fe22bd3a381b"
   },
   "source": [
    "En av funksjonene som brukes ofte i Excel er pivottabeller. Selv om vi på en måte har gjort det samme i eksemplene over ved hjelp av groupby() så har Pandas en egen pivot_table() metode vi kan se på og."
   ]
  },
  {
   "cell_type": "code",
   "execution_count": null,
   "id": "e71bb996-24df-4161-be84-d443e067e1bc",
   "metadata": {
    "colab": {
     "base_uri": "https://localhost:8080/",
     "height": 1000
    },
    "executionInfo": {
     "elapsed": 59,
     "status": "ok",
     "timestamp": 1755496691500,
     "user": {
      "displayName": "Kristian Botnen",
      "userId": "02753973764800285565"
     },
     "user_tz": -120
    },
    "id": "e71bb996-24df-4161-be84-d443e067e1bc",
    "outputId": "56955114-8bc6-45b4-ff2f-e58a0bc59bd9"
   },
   "outputs": [],
   "source": [
    "# Aggregate on \"Symbol\". The default aggregation function is 'mean'.\n",
    "# https://pandas.pydata.org/pandas-docs/stable/reference/api/pandas.DataFrame.pivot_table.html\n",
    "pivot = pd.pivot_table(data=df_prices_clean, index='make', values=[\"price\"])\n",
    "pivot"
   ]
  },
  {
   "cell_type": "code",
   "execution_count": null,
   "id": "1382f2c8-b3fc-4da8-9392-d817feba65ab",
   "metadata": {
    "colab": {
     "base_uri": "https://localhost:8080/",
     "height": 1000
    },
    "executionInfo": {
     "elapsed": 46,
     "status": "ok",
     "timestamp": 1755496694125,
     "user": {
      "displayName": "Kristian Botnen",
      "userId": "02753973764800285565"
     },
     "user_tz": -120
    },
    "id": "1382f2c8-b3fc-4da8-9392-d817feba65ab",
    "outputId": "7760c083-da4d-4d9c-82f7-3de2780a6c08"
   },
   "outputs": [],
   "source": [
    "# Aggreagate the sum instead of the default mean.\n",
    "# https://pandas.pydata.org/pandas-docs/stable/reference/api/pandas.DataFrame.pivot_table.html\n",
    "pivot = pd.pivot_table(data=df_prices_clean, index='make', values=[\"price\"], aggfunc='sum')\n",
    "pivot"
   ]
  },
  {
   "cell_type": "code",
   "execution_count": null,
   "id": "c9bdae6f-3e13-488c-b957-093bf5730ce6",
   "metadata": {
    "colab": {
     "base_uri": "https://localhost:8080/",
     "height": 1000
    },
    "executionInfo": {
     "elapsed": 42,
     "status": "ok",
     "timestamp": 1755496696719,
     "user": {
      "displayName": "Kristian Botnen",
      "userId": "02753973764800285565"
     },
     "user_tz": -120
    },
    "id": "c9bdae6f-3e13-488c-b957-093bf5730ce6",
    "outputId": "7a5c0e51-d77a-4065-8d56-78303831b0e2"
   },
   "outputs": [],
   "source": [
    "# Use multiple aggregate functions.\n",
    "# https://pandas.pydata.org/pandas-docs/stable/reference/api/pandas.DataFrame.pivot_table.html\n",
    "pivot = pd.pivot_table(data=df_prices_clean, index='make', values=[\"price\"], aggfunc=['mean', 'sum'])\n",
    "pivot"
   ]
  },
  {
   "cell_type": "code",
   "execution_count": null,
   "id": "44b88127-a820-483a-aa02-1ecbc4a4d93e",
   "metadata": {
    "colab": {
     "base_uri": "https://localhost:8080/",
     "height": 1000
    },
    "executionInfo": {
     "elapsed": 36,
     "status": "ok",
     "timestamp": 1755496699717,
     "user": {
      "displayName": "Kristian Botnen",
      "userId": "02753973764800285565"
     },
     "user_tz": -120
    },
    "id": "44b88127-a820-483a-aa02-1ecbc4a4d93e",
    "outputId": "5ead2e47-e47a-44ca-a46a-d8daca0bdb1c"
   },
   "outputs": [],
   "source": [
    "# Different aggregate functions for each column.\n",
    "# https://pandas.pydata.org/pandas-docs/stable/reference/api/pandas.DataFrame.pivot_table.html\n",
    "pivot = pd.pivot_table(data=df_prices_clean, index='make', values=[\"price\", \"year\"], aggfunc={\"price\": 'mean', \"year\": 'count'})\n",
    "pivot"
   ]
  },
  {
   "cell_type": "code",
   "execution_count": null,
   "id": "fe259e88-fa62-4b22-a801-3f9481fff3da",
   "metadata": {
    "colab": {
     "base_uri": "https://localhost:8080/",
     "height": 1000
    },
    "executionInfo": {
     "elapsed": 38,
     "status": "ok",
     "timestamp": 1755496701835,
     "user": {
      "displayName": "Kristian Botnen",
      "userId": "02753973764800285565"
     },
     "user_tz": -120
    },
    "id": "fe259e88-fa62-4b22-a801-3f9481fff3da",
    "outputId": "1f79dc3e-116d-4c38-9b82-c094f2cd0113"
   },
   "outputs": [],
   "source": [
    "# Adding totals to our pivot.\n",
    "# https://pandas.pydata.org/pandas-docs/stable/reference/api/pandas.DataFrame.pivot_table.html\n",
    "pivot = pd.pivot_table(data=df_prices_clean, index='make', values=[\"price\", \"year\"], aggfunc={\"price\": 'mean', \"year\": 'count'}, margins=True)\n",
    "pivot"
   ]
  },
  {
   "cell_type": "code",
   "execution_count": null,
   "id": "734014be-2fb0-40d6-97b4-59f46b281501",
   "metadata": {
    "colab": {
     "base_uri": "https://localhost:8080/",
     "height": 1000
    },
    "executionInfo": {
     "elapsed": 29,
     "status": "ok",
     "timestamp": 1755496704335,
     "user": {
      "displayName": "Kristian Botnen",
      "userId": "02753973764800285565"
     },
     "user_tz": -120
    },
    "id": "734014be-2fb0-40d6-97b4-59f46b281501",
    "outputId": "2970767c-647d-4a8d-9cf3-3d6c2f73308c"
   },
   "outputs": [],
   "source": [
    "# Sort our result by chaining the sort_values().\n",
    "# https://pandas.pydata.org/pandas-docs/stable/reference/api/pandas.DataFrame.pivot_table.html\n",
    "# https://pandas.pydata.org/pandas-docs/stable/reference/api/pandas.DataFrame.sort_values.html\n",
    "pivot = pd.pivot_table(data=df_prices_clean, index='make', values=[\"price\", \"year\"], aggfunc={\"price\": 'mean', \"year\": 'count'}, margins=True).sort_values(by=\"year\")\n",
    "pivot"
   ]
  },
  {
   "cell_type": "code",
   "execution_count": null,
   "id": "2a127ff4-138c-49b4-b294-42376feac0a3",
   "metadata": {
    "colab": {
     "base_uri": "https://localhost:8080/",
     "height": 373
    },
    "executionInfo": {
     "elapsed": 72,
     "status": "error",
     "timestamp": 1755496706618,
     "user": {
      "displayName": "Kristian Botnen",
      "userId": "02753973764800285565"
     },
     "user_tz": -120
    },
    "id": "2a127ff4-138c-49b4-b294-42376feac0a3",
    "outputId": "0ceca2f6-4a0b-4416-a5f2-b9083501a77c"
   },
   "outputs": [],
   "source": [
    "# This will fail in Google Colab due to lack of copy / paste mechanism.\n",
    "pivot.to_clipboard(excel=True) # We can copy our dataframe to the clipboard!"
   ]
  },
  {
   "cell_type": "markdown",
   "id": "f93a5793-7585-4351-94eb-21054d586bf2",
   "metadata": {
    "id": "f93a5793-7585-4351-94eb-21054d586bf2"
   },
   "source": [
    "## Skrive til en Excelfil v.h.a Python\n",
    "Vi har lest inn en fil, sett litt på innholdet og nå gjenstår det kun å skrive innhold tilbake til filen."
   ]
  },
  {
   "cell_type": "code",
   "execution_count": null,
   "id": "2f9dfdf8-22c6-4b92-a638-259c5be155c1",
   "metadata": {
    "executionInfo": {
     "elapsed": 141,
     "status": "ok",
     "timestamp": 1755496713292,
     "user": {
      "displayName": "Kristian Botnen",
      "userId": "02753973764800285565"
     },
     "user_tz": -120
    },
    "id": "2f9dfdf8-22c6-4b92-a638-259c5be155c1"
   },
   "outputs": [],
   "source": [
    "df_prices_clean.to_excel(\"Pythonkurs - Dag 2 - Del 3 - Python og excel.xlsx\", sheet_name='Bilpriser')"
   ]
  },
  {
   "cell_type": "code",
   "execution_count": null,
   "id": "48bd34c9-2d23-452e-89c3-70dde40dfdf3",
   "metadata": {
    "executionInfo": {
     "elapsed": 18,
     "status": "ok",
     "timestamp": 1755496721157,
     "user": {
      "displayName": "Kristian Botnen",
      "userId": "02753973764800285565"
     },
     "user_tz": -120
    },
    "id": "48bd34c9-2d23-452e-89c3-70dde40dfdf3"
   },
   "outputs": [],
   "source": [
    "# Write our pivots to Excel.\n",
    "original_pivot = pivot.copy(deep=True)\n",
    "pivot.to_excel(\"Pythonkurs - Dag 2 - Del 3 - Python og excel.xlsx\", sheet_name='Bilpriser pivot')"
   ]
  },
  {
   "cell_type": "code",
   "execution_count": null,
   "id": "c95171bb-63ce-4158-b6be-1927ddbf38d3",
   "metadata": {
    "executionInfo": {
     "elapsed": 7,
     "status": "ok",
     "timestamp": 1755496722731,
     "user": {
      "displayName": "Kristian Botnen",
      "userId": "02753973764800285565"
     },
     "user_tz": -120
    },
    "id": "c95171bb-63ce-4158-b6be-1927ddbf38d3"
   },
   "outputs": [],
   "source": [
    "# Write carprices to a csv. Just to show that you can write a DataFrame to csv as well.\n",
    "df_prices_clean.to_csv(\"Pythonkurs - Dag 2 - Del 3 - Python og excel.csv\")"
   ]
  },
  {
   "cell_type": "code",
   "execution_count": null,
   "id": "2c5f1c47-2f7c-4d7c-b8d5-11ba18b32055",
   "metadata": {
    "colab": {
     "base_uri": "https://localhost:8080/",
     "height": 1000
    },
    "executionInfo": {
     "elapsed": 32,
     "status": "ok",
     "timestamp": 1755496742736,
     "user": {
      "displayName": "Kristian Botnen",
      "userId": "02753973764800285565"
     },
     "user_tz": -120
    },
    "id": "2c5f1c47-2f7c-4d7c-b8d5-11ba18b32055",
    "outputId": "d3117fd7-9ec4-488e-c73b-0691416a9041"
   },
   "outputs": [],
   "source": [
    "# Add a new column with new data.\n",
    "pivot[\"Mine prisforventninger 2025\"] = ((5 * pivot[\"price\"])/100) + pivot[\"price\"]\n",
    "pivot"
   ]
  },
  {
   "cell_type": "code",
   "execution_count": null,
   "id": "99ec5454-f6df-4525-9105-27220523610c",
   "metadata": {
    "executionInfo": {
     "elapsed": 40,
     "status": "ok",
     "timestamp": 1755496751227,
     "user": {
      "displayName": "Kristian Botnen",
      "userId": "02753973764800285565"
     },
     "user_tz": -120
    },
    "id": "99ec5454-f6df-4525-9105-27220523610c"
   },
   "outputs": [],
   "source": [
    "# Write our updated DataFrame to Excel, we want it as a new Sheet.\n",
    "pivot.to_excel(\"Pythonkurs - Dag 2 - Del 3 - Python og excel.xlsx\", sheet_name='Bilpriser pivot forventninger')"
   ]
  },
  {
   "cell_type": "code",
   "execution_count": null,
   "id": "121a81ac-f8b3-41de-bccc-8f2e9683bbcb",
   "metadata": {
    "executionInfo": {
     "elapsed": 23,
     "status": "ok",
     "timestamp": 1755496758246,
     "user": {
      "displayName": "Kristian Botnen",
      "userId": "02753973764800285565"
     },
     "user_tz": -120
    },
    "id": "121a81ac-f8b3-41de-bccc-8f2e9683bbcb"
   },
   "outputs": [],
   "source": [
    "with pd.ExcelWriter(\"Pythonkurs - Dag 2 - Del 3 - Python og excel.xlsx\") as writer:\n",
    "    original_pivot.to_excel(writer, sheet_name='Bilpriser pivot')\n",
    "    pivot.to_excel(writer, sheet_name='Bilpriser pivot forventninger')"
   ]
  },
  {
   "cell_type": "markdown",
   "id": "307d5545-c0d9-42f7-a5ed-2a233ce519f9",
   "metadata": {
    "id": "307d5545-c0d9-42f7-a5ed-2a233ce519f9"
   },
   "source": [
    "Da har vi sett på hvordan vi kan lese, manipulere og skrive Excelfiler v.h.a Python."
   ]
  },
  {
   "cell_type": "markdown",
   "id": "12f519bd-3b4e-4c25-a5c2-7687cf9ff28e",
   "metadata": {
    "id": "12f519bd-3b4e-4c25-a5c2-7687cf9ff28e"
   },
   "source": [
    "## Oppgave\n",
    "Fortsett med programmet fra tidligere. Vi skal nå opprette to nye faner i et Excel ark.\n",
    "\n",
    "* Den ene fanen inneholder selve datasettet vårt. Kastnummer og resultat.\n",
    "* Den andre fanen inneholder deskriptiv statistikk om datasettet vårt.\n",
    "\n",
    "NB! Det vil være enklest om du oppretter en Pandas DataFrame basert på datasettet vårt først."
   ]
  }
 ],
 "metadata": {
  "colab": {
   "provenance": []
  },
  "kernelspec": {
   "display_name": "Python 3 (ipykernel)",
   "language": "python",
   "name": "python3"
  },
  "language_info": {
   "codemirror_mode": {
    "name": "ipython",
    "version": 3
   },
   "file_extension": ".py",
   "mimetype": "text/x-python",
   "name": "python",
   "nbconvert_exporter": "python",
   "pygments_lexer": "ipython3",
   "version": "3.12.2"
  }
 },
 "nbformat": 4,
 "nbformat_minor": 5
}
