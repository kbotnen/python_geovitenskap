{
 "cells": [
  {
   "cell_type": "markdown",
   "id": "a8ce2bbf-74fa-4d21-babf-fa5d85841694",
   "metadata": {},
   "source": [
    "## Oppgave\n",
    "Fortsett med programmet fra tidligere. Vi skal nå opprette to nye faner i et Excel ark.\n",
    "\n",
    "Den ene fanen inneholder selve datasettet vårt. Kastnummer og resultat.\n",
    "Den andre fanen inneholder deskriptiv statistikk om datasettet vårt.\n",
    "NB! Det vil være enklest om du oppretter en Pandas DataFrame basert på datasettet vårt først."
   ]
  },
  {
   "cell_type": "markdown",
   "id": "6f38c15e-40c3-49c5-9711-7b53587bd243",
   "metadata": {},
   "source": [
    "## Løsningsforslag oppgave"
   ]
  },
  {
   "cell_type": "code",
   "execution_count": null,
   "id": "f5ca8278-1d05-4f3b-8d01-fbf1976413fd",
   "metadata": {},
   "outputs": [],
   "source": [
    "import random\n",
    "\n",
    "import pandas as pd\n",
    "\n",
    "def kast_terning(antall_kast):\n",
    "    result_array = []\n",
    "    for i in range(0, antall_kast):\n",
    "        result_array.append(random.randrange(1,7))\n",
    "    return result_array\n",
    "\n",
    "antall_kast = 10\n",
    "\n",
    "terning_dataframe = pd.DataFrame()\n",
    "# For more interesting data, we can repeat our experiment to generate more data\n",
    "antall_forsok = 5\n",
    "for i in range(0, antall_forsok):\n",
    "   dataset = kast_terning(antall_kast)\n",
    "   terning_dataframe[\"Set %s\" % i] = dataset\n",
    "\n",
    "#terning_dataframe = pd.DataFrame(kast_terning(antall_kast)) # Single run only\n",
    "print(type(terning_dataframe))\n",
    "terning_dataframe"
   ]
  },
  {
   "cell_type": "code",
   "execution_count": null,
   "id": "a27763ca-130d-4391-8a28-a7690dc62047",
   "metadata": {},
   "outputs": [],
   "source": [
    "terning_descriptive = terning_dataframe.describe()\n",
    "terning_descriptive"
   ]
  },
  {
   "cell_type": "code",
   "execution_count": null,
   "id": "48aa1748-2cc3-4a10-ab8a-01958bcc3db5",
   "metadata": {},
   "outputs": [],
   "source": [
    "with pd.ExcelWriter(\"Pythonkurs - Dag 2 - Del 3 - Python og excel terningkast.xlsx\") as writer:\n",
    "    terning_dataframe.to_excel(writer, sheet_name='Original data', index=False)\n",
    "    terning_descriptive.to_excel(writer, sheet_name='Descriptive statistics')"
   ]
  },
  {
   "cell_type": "code",
   "execution_count": null,
   "id": "a098dd8e-eac6-4a28-a76c-61d6f78412b9",
   "metadata": {},
   "outputs": [],
   "source": [
    "terning_dataframe.to_excel(\"Pythonkurs - Dag 2 - Del 3 - Bare en fane.xlsx\")"
   ]
  }
 ],
 "metadata": {
  "kernelspec": {
   "display_name": "Python 3 (ipykernel)",
   "language": "python",
   "name": "python3"
  },
  "language_info": {
   "codemirror_mode": {
    "name": "ipython",
    "version": 3
   },
   "file_extension": ".py",
   "mimetype": "text/x-python",
   "name": "python",
   "nbconvert_exporter": "python",
   "pygments_lexer": "ipython3",
   "version": "3.12.2"
  }
 },
 "nbformat": 4,
 "nbformat_minor": 5
}
