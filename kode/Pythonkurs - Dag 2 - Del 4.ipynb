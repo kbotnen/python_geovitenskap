{
 "cells": [
  {
   "cell_type": "markdown",
   "id": "c1c0e155-e30b-4495-885d-6c1731c4b778",
   "metadata": {},
   "source": [
    "# Python workshop - Introduksjon til python - Del 4\n",
    "Kart og GeoJSON.\n",
    "\n",
    "GEOV181 høst 2025, Kristian Botnen"
   ]
  },
  {
   "cell_type": "code",
   "execution_count": null,
   "id": "f20b3d9c-56ec-4b1b-8a26-b484733031be",
   "metadata": {
    "colab": {
     "base_uri": "https://localhost:8080/"
    },
    "executionInfo": {
     "elapsed": 13146,
     "status": "ok",
     "timestamp": 1755496116490,
     "user": {
      "displayName": "Kristian Botnen",
      "userId": "02753973764800285565"
     },
     "user_tz": -120
    },
    "id": "f20b3d9c-56ec-4b1b-8a26-b484733031be",
    "outputId": "9edf41a3-0f42-48b4-c208-2952d1ca921e"
   },
   "outputs": [],
   "source": [
    "#%pip install folium\n",
    "# pip install folium, xyzservices, branca\n",
    "# conda install --channel conda-forge geopandas\n",
    "# conda install --channel conda-forge geodatasets\n",
    "# conda install --channel conda-forge fiona\n",
    "%pip install geodatasets\n",
    "%pip install fiona"
   ]
  },
  {
   "cell_type": "code",
   "execution_count": null,
   "id": "2d1c2026-00e8-487b-9447-4ac20b5642d9",
   "metadata": {
    "executionInfo": {
     "elapsed": 48,
     "status": "ok",
     "timestamp": 1755496116846,
     "user": {
      "displayName": "Kristian Botnen",
      "userId": "02753973764800285565"
     },
     "user_tz": -120
    },
    "id": "2d1c2026-00e8-487b-9447-4ac20b5642d9"
   },
   "outputs": [],
   "source": [
    "# Import Libraries\n",
    "import pandas as pd\n",
    "import geopandas as gpd\n",
    "import matplotlib.pyplot as plt\n",
    "import folium\n",
    "import geodatasets\n",
    "import fiona"
   ]
  },
  {
   "cell_type": "code",
   "execution_count": null,
   "id": "ccab6fc3-df17-49b4-ba0c-f6415b728165",
   "metadata": {
    "executionInfo": {
     "elapsed": 6,
     "status": "ok",
     "timestamp": 1755496120540,
     "user": {
      "displayName": "Kristian Botnen",
      "userId": "02753973764800285565"
     },
     "user_tz": -120
    },
    "id": "ccab6fc3-df17-49b4-ba0c-f6415b728165"
   },
   "outputs": [],
   "source": [
    "icon_lat = 60.39\n",
    "icon_lon = 5.32\n",
    "icon_desc = \"Bergen?\""
   ]
  },
  {
   "cell_type": "code",
   "execution_count": null,
   "id": "911986d3-2e2e-4295-bf53-ecfbd529a558",
   "metadata": {
    "executionInfo": {
     "elapsed": 15,
     "status": "ok",
     "timestamp": 1755496124733,
     "user": {
      "displayName": "Kristian Botnen",
      "userId": "02753973764800285565"
     },
     "user_tz": -120
    },
    "id": "911986d3-2e2e-4295-bf53-ecfbd529a558"
   },
   "outputs": [],
   "source": [
    "map = folium.Map(location=[60.39, 5.32], zoom_start=4, control_scale=True)"
   ]
  },
  {
   "cell_type": "code",
   "execution_count": null,
   "id": "849e4524-62f2-4d07-b2ab-e40b606003c3",
   "metadata": {
    "colab": {
     "base_uri": "https://localhost:8080/"
    },
    "executionInfo": {
     "elapsed": 24,
     "status": "ok",
     "timestamp": 1755496127075,
     "user": {
      "displayName": "Kristian Botnen",
      "userId": "02753973764800285565"
     },
     "user_tz": -120
    },
    "id": "849e4524-62f2-4d07-b2ab-e40b606003c3",
    "outputId": "2d9ecea4-f28b-43d6-c6c2-4baca0ce926a"
   },
   "outputs": [],
   "source": [
    "folium.Marker(\n",
    "    location=[icon_lat, icon_lon],\n",
    "    popup=icon_desc,\n",
    "    icon=folium.Icon(color=\"green\", icon=\"ok-sign\"),\n",
    ").add_to(map)"
   ]
  },
  {
   "cell_type": "code",
   "execution_count": null,
   "id": "4dabdbc9-1ee5-423b-a9a8-4eebdfd2dab8",
   "metadata": {
    "colab": {
     "base_uri": "https://localhost:8080/",
     "height": 1000
    },
    "executionInfo": {
     "elapsed": 36,
     "status": "ok",
     "timestamp": 1755496129018,
     "user": {
      "displayName": "Kristian Botnen",
      "userId": "02753973764800285565"
     },
     "user_tz": -120
    },
    "id": "4dabdbc9-1ee5-423b-a9a8-4eebdfd2dab8",
    "outputId": "e489fa07-e423-412e-9f39-e3255c0afbd4"
   },
   "outputs": [],
   "source": [
    "map"
   ]
  },
  {
   "cell_type": "code",
   "execution_count": null,
   "id": "dbe263c9-91ac-400b-a012-833a53a240e0",
   "metadata": {
    "executionInfo": {
     "elapsed": 9,
     "status": "ok",
     "timestamp": 1755496135445,
     "user": {
      "displayName": "Kristian Botnen",
      "userId": "02753973764800285565"
     },
     "user_tz": -120
    },
    "id": "dbe263c9-91ac-400b-a012-833a53a240e0"
   },
   "outputs": [],
   "source": [
    "output_map = \"base_map.html\"\n",
    "map.save(output_map)"
   ]
  },
  {
   "cell_type": "code",
   "execution_count": null,
   "id": "042ce4ad-32df-4edb-b9e1-679736a571e8",
   "metadata": {
    "colab": {
     "base_uri": "https://localhost:8080/"
    },
    "executionInfo": {
     "elapsed": 5,
     "status": "ok",
     "timestamp": 1755496165235,
     "user": {
      "displayName": "Kristian Botnen",
      "userId": "02753973764800285565"
     },
     "user_tz": -120
    },
    "id": "042ce4ad-32df-4edb-b9e1-679736a571e8",
    "outputId": "2c0e3f05-3397-4ab1-cbfa-1e71c8157a60"
   },
   "outputs": [],
   "source": [
    "chosen_dataset = 'naturalearth.land'\n",
    "land = geodatasets.data.query_name(chosen_dataset)\n",
    "print(type(land))\n",
    "\n",
    "print(\"Dataset Information:\")\n",
    "print(f\"Name: {land['name']}\")\n",
    "print(f\"Description: {land['description']}\")\n",
    "print(f\"Geometry Type: {land['geometry_type']}\")\n",
    "print(f\"Number of Rows: {land['nrows']}\")"
   ]
  },
  {
   "cell_type": "code",
   "execution_count": null,
   "id": "4e6cbf84-4bb8-4320-a3a0-ff7b7d75176d",
   "metadata": {
    "colab": {
     "base_uri": "https://localhost:8080/"
    },
    "executionInfo": {
     "elapsed": 656,
     "status": "ok",
     "timestamp": 1755496177622,
     "user": {
      "displayName": "Kristian Botnen",
      "userId": "02753973764800285565"
     },
     "user_tz": -120
    },
    "id": "4e6cbf84-4bb8-4320-a3a0-ff7b7d75176d",
    "outputId": "b672f81a-0067-407b-f45a-a27f298f3896"
   },
   "outputs": [],
   "source": [
    "# Get the path to the dataset, then load the dataset from the path.\n",
    "path = geodatasets.get_path('naturalearth.land')\n",
    "gdf = gpd.read_file(path)\n",
    "\n",
    "# Inspect the datset.\n",
    "print(\"Dataset type:\")\n",
    "print(type(gdf))\n",
    "print(\"\\n\")\n",
    "print(\"Dataset columns:\")\n",
    "print(gdf.info)\n",
    "print(\"\\n\")\n",
    "print(\"Dataset coordinate references system:\")\n",
    "print(gdf.crs)"
   ]
  },
  {
   "cell_type": "code",
   "execution_count": null,
   "id": "868219be-406d-461c-a349-e95a2a6f8250",
   "metadata": {
    "colab": {
     "base_uri": "https://localhost:8080/",
     "height": 285
    },
    "executionInfo": {
     "elapsed": 340,
     "status": "ok",
     "timestamp": 1755496181453,
     "user": {
      "displayName": "Kristian Botnen",
      "userId": "02753973764800285565"
     },
     "user_tz": -120
    },
    "id": "868219be-406d-461c-a349-e95a2a6f8250",
    "outputId": "f714e084-4618-40a5-99f9-55ff0d3824e9"
   },
   "outputs": [],
   "source": [
    "# Geopandas plot.\n",
    "gdf.plot(figsize=(6, 6))\n",
    "plt.show()"
   ]
  },
  {
   "cell_type": "code",
   "execution_count": null,
   "id": "5517cc1a-a858-40c2-be3b-cb0f3dd03a16",
   "metadata": {
    "colab": {
     "base_uri": "https://localhost:8080/",
     "height": 1000
    },
    "executionInfo": {
     "elapsed": 15,
     "status": "ok",
     "timestamp": 1755496193486,
     "user": {
      "displayName": "Kristian Botnen",
      "userId": "02753973764800285565"
     },
     "user_tz": -120
    },
    "id": "5517cc1a-a858-40c2-be3b-cb0f3dd03a16",
    "outputId": "6197135a-0887-4a22-a0de-250838700800"
   },
   "outputs": [],
   "source": [
    "map = folium.Map(tiles=\"CartoDB Positron\")\n",
    "map"
   ]
  },
  {
   "cell_type": "code",
   "execution_count": null,
   "id": "b1f80b2b-6171-4981-8637-e1ab222ee0af",
   "metadata": {
    "executionInfo": {
     "elapsed": 483,
     "status": "ok",
     "timestamp": 1755496204757,
     "user": {
      "displayName": "Kristian Botnen",
      "userId": "02753973764800285565"
     },
     "user_tz": -120
    },
    "id": "b1f80b2b-6171-4981-8637-e1ab222ee0af"
   },
   "outputs": [],
   "source": [
    "# Here we introduce GeoJSON: https://en.wikipedia.org/wiki/GeoJSON\n",
    "for _, r in gdf.iterrows():\n",
    "    geo_json = gpd.GeoSeries(r[\"geometry\"]).to_json()\n",
    "    geo_json = folium.GeoJson(data=geo_json, style_function=lambda x: {\"fillColor\": \"orange\"})\n",
    "    geo_json.add_to(map)\n"
   ]
  },
  {
   "cell_type": "code",
   "execution_count": null,
   "id": "3fbdd681-31bf-410e-96fa-7b3f209110b8",
   "metadata": {
    "colab": {
     "base_uri": "https://localhost:8080/",
     "height": 1000
    },
    "executionInfo": {
     "elapsed": 541,
     "status": "ok",
     "timestamp": 1755496208799,
     "user": {
      "displayName": "Kristian Botnen",
      "userId": "02753973764800285565"
     },
     "user_tz": -120
    },
    "id": "3fbdd681-31bf-410e-96fa-7b3f209110b8",
    "outputId": "f0046561-79be-4b72-b656-23456bc26383"
   },
   "outputs": [],
   "source": [
    "# Show the result.\n",
    "# Remember that the description of the dataset was: \"Land polygons including major islands in a 1:110m resolution.\"\n",
    "map"
   ]
  },
  {
   "cell_type": "code",
   "execution_count": null,
   "id": "59e99472-bf39-4f04-87e0-08d0e4f5a4cd",
   "metadata": {
    "colab": {
     "base_uri": "https://localhost:8080/"
    },
    "executionInfo": {
     "elapsed": 1137,
     "status": "ok",
     "timestamp": 1755496215513,
     "user": {
      "displayName": "Kristian Botnen",
      "userId": "02753973764800285565"
     },
     "user_tz": -120
    },
    "id": "59e99472-bf39-4f04-87e0-08d0e4f5a4cd",
    "outputId": "3e9c6ea1-f57a-4447-db87-e01c2ab01a76"
   },
   "outputs": [],
   "source": [
    "# New datasource\n",
    "political_countries_url = (\n",
    "    \"http://geojson.xyz/naturalearth-3.3.0/ne_50m_admin_0_countries.geojson\"\n",
    ")\n",
    "\n",
    "map = folium.Map(tiles=\"OpenTopoMap\")\n",
    "folium.GeoJson(political_countries_url).add_to(map)\n"
   ]
  },
  {
   "cell_type": "code",
   "execution_count": null,
   "id": "12261269-bcbc-4d57-854b-257e347b0bc5",
   "metadata": {
    "colab": {
     "base_uri": "https://localhost:8080/",
     "height": 1000,
     "output_embedded_package_id": "1dFZSU0ZRVMhw1gF90L0ksWwGvQiZvzyS"
    },
    "executionInfo": {
     "elapsed": 1710,
     "status": "ok",
     "timestamp": 1755496220002,
     "user": {
      "displayName": "Kristian Botnen",
      "userId": "02753973764800285565"
     },
     "user_tz": -120
    },
    "id": "12261269-bcbc-4d57-854b-257e347b0bc5",
    "outputId": "45808d50-ab9e-4955-c67a-7d2f9560f6ae"
   },
   "outputs": [],
   "source": [
    "# Show the result.\n",
    "map"
   ]
  },
  {
   "cell_type": "code",
   "execution_count": null,
   "id": "1c7e2b18-eee6-4549-a6b2-e962299aa251",
   "metadata": {
    "colab": {
     "base_uri": "https://localhost:8080/"
    },
    "executionInfo": {
     "elapsed": 272,
     "status": "ok",
     "timestamp": 1755496242362,
     "user": {
      "displayName": "Kristian Botnen",
      "userId": "02753973764800285565"
     },
     "user_tz": -120
    },
    "id": "1c7e2b18-eee6-4549-a6b2-e962299aa251",
    "outputId": "81f89524-384f-4d50-ff61-a1ea80723997"
   },
   "outputs": [],
   "source": [
    "# Almost the last datasource\n",
    "airports_url = (\n",
    "    \"https://d2ad6b4ur7yvpq.cloudfront.net/naturalearth-3.3.0/ne_10m_airports.geojson\"\n",
    ")\n",
    "\n",
    "map = folium.Map(tiles=\"OpenStreetMap\")\n",
    "folium.GeoJson(airports_url).add_to(map)\n"
   ]
  },
  {
   "cell_type": "code",
   "execution_count": null,
   "id": "64548b0d-388c-47a3-bc5c-87a9dd5a7b78",
   "metadata": {
    "colab": {
     "base_uri": "https://localhost:8080/",
     "height": 1000
    },
    "executionInfo": {
     "elapsed": 131,
     "status": "ok",
     "timestamp": 1755496245063,
     "user": {
      "displayName": "Kristian Botnen",
      "userId": "02753973764800285565"
     },
     "user_tz": -120
    },
    "id": "64548b0d-388c-47a3-bc5c-87a9dd5a7b78",
    "outputId": "edabcce1-673d-40b9-c65f-4be908f35c85"
   },
   "outputs": [],
   "source": [
    "# Show the result.\n",
    "map"
   ]
  },
  {
   "cell_type": "code",
   "execution_count": null,
   "id": "3a3c3857-f7e1-4104-a182-370ae61d060a",
   "metadata": {
    "colab": {
     "base_uri": "https://localhost:8080/"
    },
    "executionInfo": {
     "elapsed": 3582,
     "status": "ok",
     "timestamp": 1755496359568,
     "user": {
      "displayName": "Kristian Botnen",
      "userId": "02753973764800285565"
     },
     "user_tz": -120
    },
    "id": "3a3c3857-f7e1-4104-a182-370ae61d060a",
    "outputId": "dcf272f6-91e7-4d2c-cd30-4be0f88bc968"
   },
   "outputs": [],
   "source": [
    "# Last datasource\n",
    "# Ref: https://kartkatalog.geonorge.no/metadata/stemmekretser-stortings--og-sametingsvalget-2025/67d89aa2-ee97-43b2-bcf0-b044ac3b5844\n",
    "fylker_url = (\n",
    "    \"Basisdata_0000_Norge_4258_Stemmekrets_GeoJSON.geojson\"\n",
    ")\n",
    "\n",
    "map = folium.Map(location=[60.39, 5.32], zoom_start=8, control_scale=True)\n",
    "\n",
    "folium.GeoJson(data=fylker_url).add_to(map)\n"
   ]
  },
  {
   "cell_type": "code",
   "execution_count": null,
   "id": "881f7cd3-f855-4a2d-8371-10986280578b",
   "metadata": {
    "colab": {
     "base_uri": "https://localhost:8080/",
     "height": 1000,
     "output_embedded_package_id": "1hqU4mI2ehq72voupfegOLozVHK5yVdVZ"
    },
    "executionInfo": {
     "elapsed": 15139,
     "status": "ok",
     "timestamp": 1755496386519,
     "user": {
      "displayName": "Kristian Botnen",
      "userId": "02753973764800285565"
     },
     "user_tz": -120
    },
    "id": "881f7cd3-f855-4a2d-8371-10986280578b",
    "outputId": "8c152667-fb08-4892-971e-d7333988e17d"
   },
   "outputs": [],
   "source": [
    "# Show the result.\n",
    "map"
   ]
  },
  {
   "cell_type": "code",
   "execution_count": null,
   "id": "fSc-1Rtjvdlq",
   "metadata": {
    "executionInfo": {
     "elapsed": 8546,
     "status": "ok",
     "timestamp": 1755496459838,
     "user": {
      "displayName": "Kristian Botnen",
      "userId": "02753973764800285565"
     },
     "user_tz": -120
    },
    "id": "fSc-1Rtjvdlq"
   },
   "outputs": [],
   "source": [
    "output_map = \"stemmekrets_map.html\"\n",
    "map.save(output_map)"
   ]
  },
  {
   "cell_type": "markdown",
   "id": "218a55a1-cd8e-4929-8d4d-5b2c17e5fda2",
   "metadata": {
    "id": "218a55a1-cd8e-4929-8d4d-5b2c17e5fda2"
   },
   "source": [
    "# Oppsummering og oppgaver"
   ]
  },
  {
   "cell_type": "markdown",
   "id": "347a74e3-f3bf-44ff-8584-1f1a4d91017e",
   "metadata": {
    "id": "347a74e3-f3bf-44ff-8584-1f1a4d91017e"
   },
   "source": [
    "## Oppsummering 1\n",
    "Vi har sett kort på en måte man kan jobbe med geodata og visualiseringer på ved hjelp av python.\n",
    "\n",
    "\n",
    "## Oppgave 1\n",
    "0. Opprett et nytt tomt kodeprosjekt / dokument.\n",
    "1. Lag et egetdefinert kart, basert på folium.\n",
    "2. Finn et eksempel datasett og plott på kartet ditt.\n",
    "\n",
    "* Noen datasett finner du her: https://geojson.xyz\n",
    "* Noen datasett finer du også her: https://kartkatalog.geonorge.no"
   ]
  }
 ],
 "metadata": {
  "colab": {
   "provenance": []
  },
  "kernelspec": {
   "display_name": "Python 3 (ipykernel)",
   "language": "python",
   "name": "python3"
  },
  "language_info": {
   "codemirror_mode": {
    "name": "ipython",
    "version": 3
   },
   "file_extension": ".py",
   "mimetype": "text/x-python",
   "name": "python",
   "nbconvert_exporter": "python",
   "pygments_lexer": "ipython3",
   "version": "3.12.2"
  }
 },
 "nbformat": 4,
 "nbformat_minor": 5
}
