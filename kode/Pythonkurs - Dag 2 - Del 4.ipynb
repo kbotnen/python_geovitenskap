{
  "cells": [
    {
      "cell_type": "markdown",
      "metadata": {
        "id": "view-in-github",
        "colab_type": "text"
      },
      "source": [
        "<a href=\"https://colab.research.google.com/github/kbotnen/python_geovitenskap/blob/main/kode/Pythonkurs%20-%20Dag%202%20-%20Del%204.ipynb\" target=\"_parent\"><img src=\"https://colab.research.google.com/assets/colab-badge.svg\" alt=\"Open In Colab\"/></a>"
      ]
    },
    {
      "cell_type": "markdown",
      "id": "c1c0e155-e30b-4495-885d-6c1731c4b778",
      "metadata": {
        "id": "c1c0e155-e30b-4495-885d-6c1731c4b778"
      },
      "source": [
        "# Python workshop - Introduksjon til python - Del 4\n",
        "Kart og GeoJSON.\n",
        "\n",
        "GEOV181 høst 2025, Kristian Botnen"
      ]
    },
    {
      "cell_type": "code",
      "execution_count": null,
      "id": "f20b3d9c-56ec-4b1b-8a26-b484733031be",
      "metadata": {
        "id": "f20b3d9c-56ec-4b1b-8a26-b484733031be"
      },
      "outputs": [],
      "source": [
        "#%pip install folium\n",
        "# pip install folium, xyzservices, branca\n",
        "# conda install --channel conda-forge geopandas\n",
        "# conda install --channel conda-forge geodatasets\n",
        "# conda install --channel conda-forge fiona\n",
        "%pip install geodatasets\n",
        "%pip install fiona"
      ]
    },
    {
      "cell_type": "code",
      "execution_count": null,
      "id": "2d1c2026-00e8-487b-9447-4ac20b5642d9",
      "metadata": {
        "id": "2d1c2026-00e8-487b-9447-4ac20b5642d9"
      },
      "outputs": [],
      "source": [
        "# Import Libraries\n",
        "import pandas as pd\n",
        "import geopandas as gpd\n",
        "import matplotlib.pyplot as plt\n",
        "import folium\n",
        "import geodatasets\n",
        "import fiona"
      ]
    },
    {
      "cell_type": "code",
      "execution_count": null,
      "id": "ccab6fc3-df17-49b4-ba0c-f6415b728165",
      "metadata": {
        "id": "ccab6fc3-df17-49b4-ba0c-f6415b728165"
      },
      "outputs": [],
      "source": [
        "icon_lat = 60.39\n",
        "icon_lon = 5.32\n",
        "icon_desc = \"Bergen?\""
      ]
    },
    {
      "cell_type": "code",
      "execution_count": null,
      "id": "911986d3-2e2e-4295-bf53-ecfbd529a558",
      "metadata": {
        "id": "911986d3-2e2e-4295-bf53-ecfbd529a558"
      },
      "outputs": [],
      "source": [
        "map = folium.Map(location=[60.39, 5.32], zoom_start=4, control_scale=True)"
      ]
    },
    {
      "cell_type": "code",
      "execution_count": null,
      "id": "849e4524-62f2-4d07-b2ab-e40b606003c3",
      "metadata": {
        "id": "849e4524-62f2-4d07-b2ab-e40b606003c3"
      },
      "outputs": [],
      "source": [
        "folium.Marker(\n",
        "    location=[icon_lat, icon_lon],\n",
        "    popup=icon_desc,\n",
        "    icon=folium.Icon(color=\"green\", icon=\"ok-sign\"),\n",
        ").add_to(map)"
      ]
    },
    {
      "cell_type": "code",
      "execution_count": null,
      "id": "4dabdbc9-1ee5-423b-a9a8-4eebdfd2dab8",
      "metadata": {
        "id": "4dabdbc9-1ee5-423b-a9a8-4eebdfd2dab8"
      },
      "outputs": [],
      "source": [
        "map"
      ]
    },
    {
      "cell_type": "code",
      "execution_count": null,
      "id": "dbe263c9-91ac-400b-a012-833a53a240e0",
      "metadata": {
        "id": "dbe263c9-91ac-400b-a012-833a53a240e0"
      },
      "outputs": [],
      "source": [
        "output_map = \"base_map.html\"\n",
        "map.save(output_map)"
      ]
    },
    {
      "cell_type": "code",
      "execution_count": null,
      "id": "042ce4ad-32df-4edb-b9e1-679736a571e8",
      "metadata": {
        "id": "042ce4ad-32df-4edb-b9e1-679736a571e8"
      },
      "outputs": [],
      "source": [
        "chosen_dataset = 'naturalearth.land'\n",
        "land = geodatasets.data.query_name(chosen_dataset)\n",
        "print(type(land))\n",
        "\n",
        "print(\"Dataset Information:\")\n",
        "print(f\"Name: {land['name']}\")\n",
        "print(f\"Description: {land['description']}\")\n",
        "print(f\"Geometry Type: {land['geometry_type']}\")\n",
        "print(f\"Number of Rows: {land['nrows']}\")"
      ]
    },
    {
      "cell_type": "code",
      "execution_count": null,
      "id": "4e6cbf84-4bb8-4320-a3a0-ff7b7d75176d",
      "metadata": {
        "id": "4e6cbf84-4bb8-4320-a3a0-ff7b7d75176d"
      },
      "outputs": [],
      "source": [
        "# Get the path to the dataset, then load the dataset from the path.\n",
        "path = geodatasets.get_path('naturalearth.land')\n",
        "gdf = gpd.read_file(path)\n",
        "\n",
        "# Inspect the datset.\n",
        "print(\"Dataset type:\")\n",
        "print(type(gdf))\n",
        "print(\"\\n\")\n",
        "print(\"Dataset columns:\")\n",
        "print(gdf.info)\n",
        "print(\"\\n\")\n",
        "print(\"Dataset coordinate references system:\")\n",
        "print(gdf.crs)"
      ]
    },
    {
      "cell_type": "code",
      "execution_count": null,
      "id": "868219be-406d-461c-a349-e95a2a6f8250",
      "metadata": {
        "id": "868219be-406d-461c-a349-e95a2a6f8250"
      },
      "outputs": [],
      "source": [
        "# Geopandas plot.\n",
        "gdf.plot(figsize=(6, 6))\n",
        "plt.show()"
      ]
    },
    {
      "cell_type": "code",
      "execution_count": null,
      "id": "5517cc1a-a858-40c2-be3b-cb0f3dd03a16",
      "metadata": {
        "id": "5517cc1a-a858-40c2-be3b-cb0f3dd03a16"
      },
      "outputs": [],
      "source": [
        "map = folium.Map(tiles=\"CartoDB Positron\")\n",
        "map"
      ]
    },
    {
      "cell_type": "code",
      "execution_count": null,
      "id": "b1f80b2b-6171-4981-8637-e1ab222ee0af",
      "metadata": {
        "id": "b1f80b2b-6171-4981-8637-e1ab222ee0af"
      },
      "outputs": [],
      "source": [
        "# Here we introduce GeoJSON: https://en.wikipedia.org/wiki/GeoJSON\n",
        "for _, r in gdf.iterrows():\n",
        "    geo_json = gpd.GeoSeries(r[\"geometry\"]).to_json()\n",
        "    geo_json = folium.GeoJson(data=geo_json, style_function=lambda x: {\"fillColor\": \"orange\"})\n",
        "    geo_json.add_to(map)\n"
      ]
    },
    {
      "cell_type": "code",
      "execution_count": null,
      "id": "3fbdd681-31bf-410e-96fa-7b3f209110b8",
      "metadata": {
        "id": "3fbdd681-31bf-410e-96fa-7b3f209110b8"
      },
      "outputs": [],
      "source": [
        "# Show the result.\n",
        "# Remember that the description of the dataset was: \"Land polygons including major islands in a 1:110m resolution.\"\n",
        "map"
      ]
    },
    {
      "cell_type": "code",
      "execution_count": null,
      "id": "59e99472-bf39-4f04-87e0-08d0e4f5a4cd",
      "metadata": {
        "id": "59e99472-bf39-4f04-87e0-08d0e4f5a4cd"
      },
      "outputs": [],
      "source": [
        "# New datasource\n",
        "political_countries_url = (\n",
        "    \"http://geojson.xyz/naturalearth-3.3.0/ne_50m_admin_0_countries.geojson\"\n",
        ")\n",
        "\n",
        "map = folium.Map(tiles=\"OpenTopoMap\")\n",
        "folium.GeoJson(political_countries_url).add_to(map)\n"
      ]
    },
    {
      "cell_type": "code",
      "execution_count": null,
      "id": "12261269-bcbc-4d57-854b-257e347b0bc5",
      "metadata": {
        "colab": {
          "base_uri": "https://localhost:8080/",
          "height": 1000
        },
        "id": "12261269-bcbc-4d57-854b-257e347b0bc5",
        "outputId": "45808d50-ab9e-4955-c67a-7d2f9560f6ae"
      },
      "outputs": [],
      "source": [
        "# Show the result.\n",
        "map"
      ]
    },
    {
      "cell_type": "code",
      "execution_count": null,
      "id": "1c7e2b18-eee6-4549-a6b2-e962299aa251",
      "metadata": {
        "id": "1c7e2b18-eee6-4549-a6b2-e962299aa251"
      },
      "outputs": [],
      "source": [
        "# Almost the last datasource\n",
        "airports_url = (\n",
        "    \"https://d2ad6b4ur7yvpq.cloudfront.net/naturalearth-3.3.0/ne_10m_airports.geojson\"\n",
        ")\n",
        "\n",
        "map = folium.Map(tiles=\"OpenStreetMap\")\n",
        "folium.GeoJson(airports_url).add_to(map)\n"
      ]
    },
    {
      "cell_type": "code",
      "execution_count": null,
      "id": "64548b0d-388c-47a3-bc5c-87a9dd5a7b78",
      "metadata": {
        "id": "64548b0d-388c-47a3-bc5c-87a9dd5a7b78"
      },
      "outputs": [],
      "source": [
        "# Show the result.\n",
        "map"
      ]
    },
    {
      "cell_type": "code",
      "execution_count": null,
      "id": "3a3c3857-f7e1-4104-a182-370ae61d060a",
      "metadata": {
        "id": "3a3c3857-f7e1-4104-a182-370ae61d060a"
      },
      "outputs": [],
      "source": [
        "# Last datasource\n",
        "# Ref: https://kartkatalog.geonorge.no/metadata/stemmekretser-stortings--og-sametingsvalget-2025/67d89aa2-ee97-43b2-bcf0-b044ac3b5844\n",
        "fylker_url = (\n",
        "    \"Basisdata_0000_Norge_4258_Stemmekrets_GeoJSON.geojson\"\n",
        ")\n",
        "\n",
        "map = folium.Map(location=[60.39, 5.32], zoom_start=8, control_scale=True)\n",
        "\n",
        "folium.GeoJson(data=fylker_url).add_to(map)\n"
      ]
    },
    {
      "cell_type": "code",
      "execution_count": null,
      "id": "881f7cd3-f855-4a2d-8371-10986280578b",
      "metadata": {
        "colab": {
          "base_uri": "https://localhost:8080/",
          "height": 1000
        },
        "id": "881f7cd3-f855-4a2d-8371-10986280578b",
        "outputId": "8c152667-fb08-4892-971e-d7333988e17d"
      },
      "outputs": [],
      "source": [
        "# Show the result.\n",
        "map"
      ]
    },
    {
      "cell_type": "code",
      "execution_count": null,
      "id": "fSc-1Rtjvdlq",
      "metadata": {
        "id": "fSc-1Rtjvdlq"
      },
      "outputs": [],
      "source": [
        "output_map = \"stemmekrets_map.html\"\n",
        "map.save(output_map)"
      ]
    },
    {
      "cell_type": "markdown",
      "id": "218a55a1-cd8e-4929-8d4d-5b2c17e5fda2",
      "metadata": {
        "id": "218a55a1-cd8e-4929-8d4d-5b2c17e5fda2"
      },
      "source": [
        "# Oppsummering og oppgaver"
      ]
    },
    {
      "cell_type": "markdown",
      "id": "347a74e3-f3bf-44ff-8584-1f1a4d91017e",
      "metadata": {
        "id": "347a74e3-f3bf-44ff-8584-1f1a4d91017e"
      },
      "source": [
        "## Oppsummering 1\n",
        "Vi har sett kort på en måte man kan jobbe med geodata og visualiseringer på ved hjelp av python.\n",
        "\n",
        "\n",
        "## Oppgave 1\n",
        "0. Opprett et nytt tomt kodeprosjekt / dokument.\n",
        "1. Lag et egetdefinert kart, basert på folium.\n",
        "2. Finn et eksempel datasett og plott på kartet ditt.\n",
        "\n",
        "* Noen datasett finner du her: https://geojson.xyz\n",
        "* Noen datasett finer du også her: https://kartkatalog.geonorge.no"
      ]
    }
  ],
  "metadata": {
    "colab": {
      "provenance": [],
      "include_colab_link": true
    },
    "kernelspec": {
      "display_name": "Python 3 (ipykernel)",
      "language": "python",
      "name": "python3"
    },
    "language_info": {
      "codemirror_mode": {
        "name": "ipython",
        "version": 3
      },
      "file_extension": ".py",
      "mimetype": "text/x-python",
      "name": "python",
      "nbconvert_exporter": "python",
      "pygments_lexer": "ipython3",
      "version": "3.12.2"
    }
  },
  "nbformat": 4,
  "nbformat_minor": 5
}